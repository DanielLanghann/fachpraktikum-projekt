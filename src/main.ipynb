{
 "cells": [
  {
   "cell_type": "code",
   "execution_count": 3,
   "id": "initial_id",
   "metadata": {
    "tags": []
   },
   "outputs": [],
   "source": [
    "\"\"\"\n",
    "Different RNA Sequences\n",
    "\"\"\"\n",
    "seq_hiv = \"GGGUCUCUCUGGUUAGACCAGAUCUGAGCCUGGGAGCUCUCUGGCUAACUAGGGAACCCAC\"\n",
    "\n",
    "seq_MT_RNR2 = f\"\"\"\n",
    "GCUAAACCUAGCCCCAAACCCACUCCACCUUACUACCAGACAACCUUAGCCAAACCAUUUACCCAAAUAAAGUAUAGGCGAUAGAAAUUGAAACCUGGCGCAAUAGAUAUAGUACCGCAAGGGAAAGAUGAAAAAUUAUAACCAAGCAUAAUAUAG\n",
    "CAAGGACUAACCCCUAUACCUUCUGCAUAAUGAAUUAACUAGAAAUAACUUUGCAAGGAGAGCCAAAGCUAAGACCCCCGAAACCAGACGAGCUACCUAAGAACAGCUAAAAGAGCACACCCGUCUAUGUAGCAAAAUAGUGGGAAGAUUUAUAG\n",
    "GUAGAGGCGACAAACCUACCGAGCCUGGUGAUAGCUGGUUGUCCAAGAUAGAAUCUUAGUUCAACUUUAAAUUUGCCCACAGAACCCUCUAAAUCCCCUUGUAAAUUUAACUGUUAGUCCAAAGAGGAACAGCUCUUUGGACACUAGGAAAAAA\n",
    "CCUUGUAGAGAGAGUAAAAAAUUUAACACCCAUAGUAGGCCUAAAAGCAGCCACCAAUUAAGAAAGCGUUCAAGCUCAACACCCACUACCUAAAAAAUCCCAAACAUAUAACUGAACUCCUCACACCCAAUUGGACCAAUCUAUCACCCUAUAGAAG\n",
    "AACUAAUGUUAGUAUAAGUAACAUGAAAACAUUCUCCUCCGCAUAAGCCUGCGUCAGAUUAAAACACUGAACUGACAAUUAACAGCCCAAUAUCUACAAUCAACCAACAAGUCAUUAUUACCCUCACUGUCAACCCAACACAGGCAUGCUCAUAAG\n",
    "GAAAGGUUAAAAAAAGUAAAAGGAACUCGGCAAAUCUUACCCCGCCUGUUUACCAAAAACAUCACCUCUAGCAUCACCAGUAUUAGAGGCACCGCCUGCCCAGUGACACAUGUUUAACGGCCGCGGUACCCUAACCGUGCAAAGGUAGCAUAAUCA\n",
    "CUUGUUCCUUAAAUAGGGACCUGUAUGAAUGGCUCCACGAGGGUUCAGCUGUCUCUUACUUUUAACCAGUGAAAUUGACCUGCCCGUGAAGAGGCGGGCAUAACACAGCAAGACGAGAAGACCCUAUGGAGCUUUAAUUUAUUAAUGCAAACAG\n",
    "UACCUAACAAACCCACAGGUCCUAAACUACCAAACCUGCAUUAAAAAUUUCGGUUGGGGCGACCUCGGAGCAGAACCCAACCUCCGAGCAGUACAUGCUAAGACUUCACCAGUCAAAGCGAACUACUAUACUCAAUUGAUCCAAUAACUUGACCAAC\n",
    "GGAACAAGUUACCCUAGGGAUAACAGCGCAAUCCUAUUCUAGAGUCCAUAUCAACAAUAGGGUUUACGACCUCGAUGUUGGAUCAGGACAUCCCGAUGGUGCAGCCGCUAUUAAAGGUUCGUUUGUUCAACGAUUAAAGUCCUACGUGAUCUGA\n",
    "GUUCAGACCGGAGUAAUCCAGGUCGGUUUCUAUCUACNUUCAAAUUCCUCCCUGUACGAAAGGACAAGAGAAAUAAGGCCUACUUCACAAAGCGCCUUCCCCCGUAAAUGAUAUCAUCUCAACUUAGUAUUAUACCCACACCCACCCAAGAACAGG\n",
    "GUUU\n",
    "\"\"\"\n",
    "\n",
    "seq_MT_RNR1 = f\"\"\"\n",
    "AAUAGGUUUGGUCCUAGCCUUUCUAUUAGCUCUUAGUAAGAUUACACAUGCAAGCAUCCCCGUUCCAGUGAGUUCACCCUCUAAAUCACCACGAUCAAAAGGAACAAGCAUCAAGCACGCAGCAAUGCAGCUCAAAACGCUUAGCCUAGCCACACCCC\n",
    "CACGGGAAACAGCAGUGAUUAACCUUUAGCAAUAAACGAAAGUUUAACUAAGCUAUACUAACCCCAGGGUUGGUCAAUUUCGUGCCAGCCACCGCGGUCACACGAUUAACCCAAGUCAAUAGAAGCCGGCGUAAAGAGUGUUUUAGAUCACCCCCUC\n",
    "CCCAAUAAAGCUAAAACUCACCUGAGUUGUAAAAAACUCCAGUUGACACAAAAUAGACUACGAAAGUGGCUUUAACAUAUCUGAACACACAAUAGCUAAGACCCAAACUGGGAUUAGAUACCCCACUAUGCUUAGCCCUAAACCUCAACAGUUAAAUC\n",
    "AACAAAACUGCUCGCCAGAACACUACGAGCCACAGCUUAAAACUCAAAGGACCUGGCGGUGCUUCAUAUCCCUCUAGAGGAGCCUGUUCUGUAAUCGAUAAACCCCGAUCAACCUCACCACCUCUUGCUCAGCCUAUAUACCGCCAUCUUCAGCAAACC\n",
    "CUGAUGAAGGCUACAAAGUAAGCGCAAGUACCCACGUAAAGACGUUAGGUCAAGGUGUAGCCCAUGAGGUGGCAAGAAAUGGGCUACAUUUUCUACCCCAGAAAACUACGAUAGCCCUUAUGAAACUUAAGGGUCGAAGGUGGAUUUAGCAGUAAA\n",
    "CUAAGAGUAGAGUGCUUAGUUGAACAGGGCCCUGAAGCGCGUACACACCGCCCGUCACCCUCCUCAAGUAUACUUCAAAGGACAUUUAACUAAAACCCCUACGCAUUUAUAUAGAGGAGACAAGUCGUAACAUGGUAAGUGUACUGGAAAGUGCACU\n",
    "UGGACGAAC\n",
    "\"\"\""
   ]
  },
  {
   "cell_type": "code",
   "execution_count": null,
   "id": "29a9a9e5-8b0d-4f3d-bc62-76b7b656cba0",
   "metadata": {},
   "outputs": [],
   "source": [
    "# Predict RNA Secondary Structure using RNAfold\n",
    "# Needs to be installed\n",
    "\n",
    "import subprocess\n",
    "\n",
    "def predict_secondary_structure(sequence):\n",
    "    process = subprocess.Popen(['RNAfold'], stdin=subprocess.PIPE, stdout=subprocess.PIPE, stderr=subprocess.PIPE)\n",
    "    stdout, stderr = process.communicate(input=sequence.encode())\n",
    "    output = stdout.decode().split('\\n')\n",
    "    return output[1].split(' ')[0]\n",
    "\n",
    "secondary_structure = predict_secondary_structure(seq_hiv)\n",
    "print(\"Secondary Structure:\", secondary_structure)\n"
   ]
  },
  {
   "cell_type": "code",
   "execution_count": null,
   "id": "77c2ff4a-a8ca-4c1f-95ab-81eb37cd31ce",
   "metadata": {},
   "outputs": [],
   "source": [
    "# Predict RNA 3D Structure\n",
    "\n",
    "class RNAPredictor(torch.nn.Module):\n",
    "    def forward(self, x):\n",
    "        # Dummy implementation\n",
    "        return \"ATOM 1 N ALA A 1 10.000 10.000 10.000 1.00 0.00 N\"\n",
    "\n",
    "def predict_3d_structure(sequence, secondary_structure):\n",
    "    model = RNAPredictor()\n",
    "    # pre-trained model weights here\n",
    "    # model.load_state_dict(torch.load(\"rna_model.pth\"))\n",
    "    model_input = (sequence, secondary_structure)  # Format appropriately for your model\n",
    "    predicted_structure = model(model_input)\n",
    "    return predicted_structure\n",
    "\n",
    "predicted_structure = predict_3d_structure(seq_hiv, secondary_structure)\n",
    "print(\"Predicted 3D Structure PDB Content:\", predicted_structure)"
   ]
  },
  {
   "cell_type": "code",
   "execution_count": null,
   "id": "563e858e-8710-4642-8474-a8ea81b930dd",
   "metadata": {},
   "outputs": [],
   "source": [
    "# Visualize the RNA 3D Structure by usi\n",
    "from pymol import cmd\n",
    "\n",
    "def save_pdb(predicted_structure, filename=\"predicted_structure.pdb\"):\n",
    "    with open(filename, \"w\") as file:\n",
    "        file.write(predicted_structure)\n",
    "\n",
    "# Save the structure\n",
    "save_pdb(predicted_structure)\n",
    "\n",
    "# Visualize using PyMOL\n",
    "cmd.load(\"predicted_structure.pdb\")\n",
    "cmd.show(\"cartoon\")\n",
    "cmd.zoom()\n"
   ]
  },
  {
   "cell_type": "code",
   "execution_count": null,
   "id": "ac68d434-914f-4dfa-98bb-4a6f03a27efc",
   "metadata": {},
   "outputs": [],
   "source": [
    "# All steps together\n",
    "\n"
   ]
  }
 ],
 "metadata": {
  "kernelspec": {
   "display_name": "Python 3 (ipykernel)",
   "language": "python",
   "name": "python3"
  },
  "language_info": {
   "codemirror_mode": {
    "name": "ipython",
    "version": 3
   },
   "file_extension": ".py",
   "mimetype": "text/x-python",
   "name": "python",
   "nbconvert_exporter": "python",
   "pygments_lexer": "ipython3",
   "version": "3.11.9"
  }
 },
 "nbformat": 4,
 "nbformat_minor": 5
}
